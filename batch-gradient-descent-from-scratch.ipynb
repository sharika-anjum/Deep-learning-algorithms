{
 "cells": [
  {
   "cell_type": "code",
   "execution_count": 1,
   "metadata": {
    "_cell_guid": "b1076dfc-b9ad-4769-8c92-a6c4dae69d19",
    "_uuid": "8f2839f25d086af736a60e9eeb907d3b93b6e0e5",
    "execution": {
     "iopub.execute_input": "2020-09-17T06:50:42.955205Z",
     "iopub.status.busy": "2020-09-17T06:50:42.954411Z",
     "iopub.status.idle": "2020-09-17T06:50:42.965547Z",
     "shell.execute_reply": "2020-09-17T06:50:42.964358Z"
    },
    "papermill": {
     "duration": 0.054037,
     "end_time": "2020-09-17T06:50:42.965773",
     "exception": false,
     "start_time": "2020-09-17T06:50:42.911736",
     "status": "completed"
    },
    "tags": []
   },
   "outputs": [
    {
     "name": "stdout",
     "output_type": "stream",
     "text": [
      "/kaggle/input/social-network-ads/Social_Network_Ads.csv\n"
     ]
    }
   ],
   "source": [
    "# This Python 3 environment comes with many helpful analytics libraries installed\n",
    "# It is defined by the kaggle/python Docker image: https://github.com/kaggle/docker-python\n",
    "# For example, here's several helpful packages to load\n",
    "\n",
    "import numpy as np # linear algebra\n",
    "import pandas as pd # data processing, CSV file I/O (e.g. pd.read_csv)\n",
    "\n",
    "# Input data files are available in the read-only \"../input/\" directory\n",
    "# For example, running this (by clicking run or pressing Shift+Enter) will list all files under the input directory\n",
    "\n",
    "import os\n",
    "for dirname, _, filenames in os.walk('/kaggle/input'):\n",
    "    for filename in filenames:\n",
    "        print(os.path.join(dirname, filename))\n",
    "\n",
    "# You can write up to 5GB to the current directory (/kaggle/working/) that gets preserved as output when you create a version using \"Save & Run All\" \n",
    "# You can also write temporary files to /kaggle/temp/, but they won't be saved outside of the current session"
   ]
  },
  {
   "cell_type": "code",
   "execution_count": 2,
   "metadata": {
    "_cell_guid": "79c7e3d0-c299-4dcb-8224-4455121ee9b0",
    "_uuid": "d629ff2d2480ee46fbb7e2d37f6b5fab8052498a",
    "execution": {
     "iopub.execute_input": "2020-09-17T06:50:43.047434Z",
     "iopub.status.busy": "2020-09-17T06:50:43.046329Z",
     "iopub.status.idle": "2020-09-17T06:50:43.060291Z",
     "shell.execute_reply": "2020-09-17T06:50:43.059572Z"
    },
    "papermill": {
     "duration": 0.057679,
     "end_time": "2020-09-17T06:50:43.060426",
     "exception": false,
     "start_time": "2020-09-17T06:50:43.002747",
     "status": "completed"
    },
    "tags": []
   },
   "outputs": [],
   "source": [
    "df=pd.read_csv('/kaggle/input/social-network-ads/Social_Network_Ads.csv')"
   ]
  },
  {
   "cell_type": "code",
   "execution_count": 3,
   "metadata": {
    "execution": {
     "iopub.execute_input": "2020-09-17T06:50:43.143741Z",
     "iopub.status.busy": "2020-09-17T06:50:43.138455Z",
     "iopub.status.idle": "2020-09-17T06:50:43.156739Z",
     "shell.execute_reply": "2020-09-17T06:50:43.155802Z"
    },
    "papermill": {
     "duration": 0.061813,
     "end_time": "2020-09-17T06:50:43.156900",
     "exception": false,
     "start_time": "2020-09-17T06:50:43.095087",
     "status": "completed"
    },
    "tags": []
   },
   "outputs": [
    {
     "data": {
      "text/html": [
       "<div>\n",
       "<style scoped>\n",
       "    .dataframe tbody tr th:only-of-type {\n",
       "        vertical-align: middle;\n",
       "    }\n",
       "\n",
       "    .dataframe tbody tr th {\n",
       "        vertical-align: top;\n",
       "    }\n",
       "\n",
       "    .dataframe thead th {\n",
       "        text-align: right;\n",
       "    }\n",
       "</style>\n",
       "<table border=\"1\" class=\"dataframe\">\n",
       "  <thead>\n",
       "    <tr style=\"text-align: right;\">\n",
       "      <th></th>\n",
       "      <th>User ID</th>\n",
       "      <th>Gender</th>\n",
       "      <th>Age</th>\n",
       "      <th>EstimatedSalary</th>\n",
       "      <th>Purchased</th>\n",
       "    </tr>\n",
       "  </thead>\n",
       "  <tbody>\n",
       "    <tr>\n",
       "      <th>0</th>\n",
       "      <td>15624510</td>\n",
       "      <td>Male</td>\n",
       "      <td>19</td>\n",
       "      <td>19000</td>\n",
       "      <td>0</td>\n",
       "    </tr>\n",
       "    <tr>\n",
       "      <th>1</th>\n",
       "      <td>15810944</td>\n",
       "      <td>Male</td>\n",
       "      <td>35</td>\n",
       "      <td>20000</td>\n",
       "      <td>0</td>\n",
       "    </tr>\n",
       "    <tr>\n",
       "      <th>2</th>\n",
       "      <td>15668575</td>\n",
       "      <td>Female</td>\n",
       "      <td>26</td>\n",
       "      <td>43000</td>\n",
       "      <td>0</td>\n",
       "    </tr>\n",
       "    <tr>\n",
       "      <th>3</th>\n",
       "      <td>15603246</td>\n",
       "      <td>Female</td>\n",
       "      <td>27</td>\n",
       "      <td>57000</td>\n",
       "      <td>0</td>\n",
       "    </tr>\n",
       "    <tr>\n",
       "      <th>4</th>\n",
       "      <td>15804002</td>\n",
       "      <td>Male</td>\n",
       "      <td>19</td>\n",
       "      <td>76000</td>\n",
       "      <td>0</td>\n",
       "    </tr>\n",
       "  </tbody>\n",
       "</table>\n",
       "</div>"
      ],
      "text/plain": [
       "    User ID  Gender  Age  EstimatedSalary  Purchased\n",
       "0  15624510    Male   19            19000          0\n",
       "1  15810944    Male   35            20000          0\n",
       "2  15668575  Female   26            43000          0\n",
       "3  15603246  Female   27            57000          0\n",
       "4  15804002    Male   19            76000          0"
      ]
     },
     "execution_count": 3,
     "metadata": {},
     "output_type": "execute_result"
    }
   ],
   "source": [
    "df.head()"
   ]
  },
  {
   "cell_type": "code",
   "execution_count": 4,
   "metadata": {
    "execution": {
     "iopub.execute_input": "2020-09-17T06:50:43.242634Z",
     "iopub.status.busy": "2020-09-17T06:50:43.241680Z",
     "iopub.status.idle": "2020-09-17T06:50:43.246021Z",
     "shell.execute_reply": "2020-09-17T06:50:43.246562Z"
    },
    "papermill": {
     "duration": 0.049953,
     "end_time": "2020-09-17T06:50:43.246742",
     "exception": false,
     "start_time": "2020-09-17T06:50:43.196789",
     "status": "completed"
    },
    "tags": []
   },
   "outputs": [
    {
     "data": {
      "text/plain": [
       "(400, 5)"
      ]
     },
     "execution_count": 4,
     "metadata": {},
     "output_type": "execute_result"
    }
   ],
   "source": [
    "df.shape"
   ]
  },
  {
   "cell_type": "code",
   "execution_count": 5,
   "metadata": {
    "execution": {
     "iopub.execute_input": "2020-09-17T06:50:43.332526Z",
     "iopub.status.busy": "2020-09-17T06:50:43.327934Z",
     "iopub.status.idle": "2020-09-17T06:50:43.336814Z",
     "shell.execute_reply": "2020-09-17T06:50:43.335947Z"
    },
    "papermill": {
     "duration": 0.053991,
     "end_time": "2020-09-17T06:50:43.336964",
     "exception": false,
     "start_time": "2020-09-17T06:50:43.282973",
     "status": "completed"
    },
    "tags": []
   },
   "outputs": [],
   "source": [
    "df.drop(columns=['User ID'], inplace=True)"
   ]
  },
  {
   "cell_type": "code",
   "execution_count": 6,
   "metadata": {
    "execution": {
     "iopub.execute_input": "2020-09-17T06:50:43.420961Z",
     "iopub.status.busy": "2020-09-17T06:50:43.420137Z",
     "iopub.status.idle": "2020-09-17T06:50:43.424683Z",
     "shell.execute_reply": "2020-09-17T06:50:43.423948Z"
    },
    "papermill": {
     "duration": 0.047719,
     "end_time": "2020-09-17T06:50:43.424838",
     "exception": false,
     "start_time": "2020-09-17T06:50:43.377119",
     "status": "completed"
    },
    "tags": []
   },
   "outputs": [
    {
     "data": {
      "text/plain": [
       "(400, 4)"
      ]
     },
     "execution_count": 6,
     "metadata": {},
     "output_type": "execute_result"
    }
   ],
   "source": [
    "df.shape"
   ]
  },
  {
   "cell_type": "code",
   "execution_count": 7,
   "metadata": {
    "execution": {
     "iopub.execute_input": "2020-09-17T06:50:43.507905Z",
     "iopub.status.busy": "2020-09-17T06:50:43.507051Z",
     "iopub.status.idle": "2020-09-17T06:50:44.599976Z",
     "shell.execute_reply": "2020-09-17T06:50:44.599132Z"
    },
    "papermill": {
     "duration": 1.137335,
     "end_time": "2020-09-17T06:50:44.600178",
     "exception": false,
     "start_time": "2020-09-17T06:50:43.462843",
     "status": "completed"
    },
    "tags": []
   },
   "outputs": [],
   "source": [
    "from sklearn.preprocessing import LabelEncoder\n",
    "encoder=LabelEncoder()"
   ]
  },
  {
   "cell_type": "code",
   "execution_count": 8,
   "metadata": {
    "execution": {
     "iopub.execute_input": "2020-09-17T06:50:44.686399Z",
     "iopub.status.busy": "2020-09-17T06:50:44.685104Z",
     "iopub.status.idle": "2020-09-17T06:50:44.689287Z",
     "shell.execute_reply": "2020-09-17T06:50:44.688629Z"
    },
    "papermill": {
     "duration": 0.051152,
     "end_time": "2020-09-17T06:50:44.689431",
     "exception": false,
     "start_time": "2020-09-17T06:50:44.638279",
     "status": "completed"
    },
    "tags": []
   },
   "outputs": [],
   "source": [
    "df['Gender']= encoder.fit_transform(df['Gender'])"
   ]
  },
  {
   "cell_type": "code",
   "execution_count": 9,
   "metadata": {
    "execution": {
     "iopub.execute_input": "2020-09-17T06:50:44.783171Z",
     "iopub.status.busy": "2020-09-17T06:50:44.782198Z",
     "iopub.status.idle": "2020-09-17T06:50:44.788093Z",
     "shell.execute_reply": "2020-09-17T06:50:44.787365Z"
    },
    "papermill": {
     "duration": 0.061306,
     "end_time": "2020-09-17T06:50:44.788218",
     "exception": false,
     "start_time": "2020-09-17T06:50:44.726912",
     "status": "completed"
    },
    "tags": []
   },
   "outputs": [
    {
     "data": {
      "text/html": [
       "<div>\n",
       "<style scoped>\n",
       "    .dataframe tbody tr th:only-of-type {\n",
       "        vertical-align: middle;\n",
       "    }\n",
       "\n",
       "    .dataframe tbody tr th {\n",
       "        vertical-align: top;\n",
       "    }\n",
       "\n",
       "    .dataframe thead th {\n",
       "        text-align: right;\n",
       "    }\n",
       "</style>\n",
       "<table border=\"1\" class=\"dataframe\">\n",
       "  <thead>\n",
       "    <tr style=\"text-align: right;\">\n",
       "      <th></th>\n",
       "      <th>Gender</th>\n",
       "      <th>Age</th>\n",
       "      <th>EstimatedSalary</th>\n",
       "      <th>Purchased</th>\n",
       "    </tr>\n",
       "  </thead>\n",
       "  <tbody>\n",
       "    <tr>\n",
       "      <th>0</th>\n",
       "      <td>1</td>\n",
       "      <td>19</td>\n",
       "      <td>19000</td>\n",
       "      <td>0</td>\n",
       "    </tr>\n",
       "    <tr>\n",
       "      <th>1</th>\n",
       "      <td>1</td>\n",
       "      <td>35</td>\n",
       "      <td>20000</td>\n",
       "      <td>0</td>\n",
       "    </tr>\n",
       "    <tr>\n",
       "      <th>2</th>\n",
       "      <td>0</td>\n",
       "      <td>26</td>\n",
       "      <td>43000</td>\n",
       "      <td>0</td>\n",
       "    </tr>\n",
       "    <tr>\n",
       "      <th>3</th>\n",
       "      <td>0</td>\n",
       "      <td>27</td>\n",
       "      <td>57000</td>\n",
       "      <td>0</td>\n",
       "    </tr>\n",
       "    <tr>\n",
       "      <th>4</th>\n",
       "      <td>1</td>\n",
       "      <td>19</td>\n",
       "      <td>76000</td>\n",
       "      <td>0</td>\n",
       "    </tr>\n",
       "  </tbody>\n",
       "</table>\n",
       "</div>"
      ],
      "text/plain": [
       "   Gender  Age  EstimatedSalary  Purchased\n",
       "0       1   19            19000          0\n",
       "1       1   35            20000          0\n",
       "2       0   26            43000          0\n",
       "3       0   27            57000          0\n",
       "4       1   19            76000          0"
      ]
     },
     "execution_count": 9,
     "metadata": {},
     "output_type": "execute_result"
    }
   ],
   "source": [
    "df.head()"
   ]
  },
  {
   "cell_type": "code",
   "execution_count": 10,
   "metadata": {
    "execution": {
     "iopub.execute_input": "2020-09-17T06:50:44.873713Z",
     "iopub.status.busy": "2020-09-17T06:50:44.872526Z",
     "iopub.status.idle": "2020-09-17T06:50:44.876779Z",
     "shell.execute_reply": "2020-09-17T06:50:44.876032Z"
    },
    "papermill": {
     "duration": 0.051038,
     "end_time": "2020-09-17T06:50:44.876899",
     "exception": false,
     "start_time": "2020-09-17T06:50:44.825861",
     "status": "completed"
    },
    "tags": []
   },
   "outputs": [],
   "source": [
    "X=df.iloc[:,:-1].values\n",
    "y=df.iloc[:,-1].values"
   ]
  },
  {
   "cell_type": "code",
   "execution_count": 11,
   "metadata": {
    "execution": {
     "iopub.execute_input": "2020-09-17T06:50:44.959647Z",
     "iopub.status.busy": "2020-09-17T06:50:44.958728Z",
     "iopub.status.idle": "2020-09-17T06:50:44.963542Z",
     "shell.execute_reply": "2020-09-17T06:50:44.962759Z"
    },
    "papermill": {
     "duration": 0.049045,
     "end_time": "2020-09-17T06:50:44.963668",
     "exception": false,
     "start_time": "2020-09-17T06:50:44.914623",
     "status": "completed"
    },
    "tags": []
   },
   "outputs": [
    {
     "data": {
      "text/plain": [
       "array([[    1,    19, 19000],\n",
       "       [    1,    35, 20000],\n",
       "       [    0,    26, 43000],\n",
       "       ...,\n",
       "       [    0,    50, 20000],\n",
       "       [    1,    36, 33000],\n",
       "       [    0,    49, 36000]])"
      ]
     },
     "execution_count": 11,
     "metadata": {},
     "output_type": "execute_result"
    }
   ],
   "source": [
    "X"
   ]
  },
  {
   "cell_type": "code",
   "execution_count": 12,
   "metadata": {
    "execution": {
     "iopub.execute_input": "2020-09-17T06:50:45.048354Z",
     "iopub.status.busy": "2020-09-17T06:50:45.047510Z",
     "iopub.status.idle": "2020-09-17T06:50:45.053138Z",
     "shell.execute_reply": "2020-09-17T06:50:45.052265Z"
    },
    "papermill": {
     "duration": 0.050901,
     "end_time": "2020-09-17T06:50:45.053284",
     "exception": false,
     "start_time": "2020-09-17T06:50:45.002383",
     "status": "completed"
    },
    "tags": []
   },
   "outputs": [
    {
     "data": {
      "text/plain": [
       "array([0, 0, 0, 0, 0, 0, 0, 1, 0, 0, 0, 0, 0, 0, 0, 0, 1, 1, 1, 1, 1, 1,\n",
       "       1, 1, 1, 1, 1, 1, 0, 0, 0, 1, 0, 0, 0, 0, 0, 0, 0, 0, 0, 0, 0, 0,\n",
       "       0, 0, 0, 0, 1, 0, 0, 0, 0, 0, 0, 0, 0, 0, 0, 0, 0, 0, 0, 1, 0, 0,\n",
       "       0, 0, 0, 0, 0, 0, 0, 0, 0, 1, 0, 0, 0, 0, 0, 0, 0, 0, 0, 1, 0, 0,\n",
       "       0, 0, 0, 0, 0, 0, 0, 0, 0, 1, 0, 0, 0, 0, 0, 1, 0, 0, 0, 0, 0, 0,\n",
       "       0, 0, 0, 0, 0, 0, 0, 0, 0, 0, 0, 0, 0, 0, 0, 0, 0, 0, 0, 0, 0, 0,\n",
       "       0, 0, 0, 0, 0, 1, 0, 0, 0, 0, 0, 0, 0, 0, 1, 0, 0, 0, 0, 0, 0, 0,\n",
       "       0, 0, 0, 0, 0, 1, 1, 0, 0, 0, 0, 0, 0, 0, 1, 0, 0, 0, 0, 0, 0, 0,\n",
       "       0, 0, 0, 0, 0, 0, 1, 0, 0, 0, 0, 0, 0, 0, 0, 0, 0, 0, 0, 0, 0, 0,\n",
       "       0, 0, 0, 0, 1, 0, 1, 0, 1, 0, 1, 0, 1, 1, 0, 0, 0, 1, 0, 0, 0, 1,\n",
       "       0, 1, 1, 1, 0, 0, 1, 1, 0, 1, 1, 0, 1, 1, 0, 1, 0, 0, 0, 1, 1, 0,\n",
       "       1, 1, 0, 1, 0, 1, 0, 1, 0, 0, 1, 1, 0, 1, 0, 0, 1, 1, 0, 1, 1, 0,\n",
       "       1, 1, 0, 0, 1, 0, 0, 1, 1, 1, 1, 1, 0, 1, 1, 1, 1, 0, 1, 1, 0, 1,\n",
       "       0, 1, 0, 1, 1, 1, 1, 0, 0, 0, 1, 1, 0, 1, 1, 1, 1, 1, 0, 0, 0, 1,\n",
       "       1, 0, 0, 1, 0, 1, 0, 1, 1, 0, 1, 0, 1, 1, 0, 1, 1, 0, 0, 0, 1, 1,\n",
       "       0, 1, 0, 0, 1, 0, 1, 0, 0, 1, 1, 0, 0, 1, 1, 0, 1, 1, 0, 0, 1, 0,\n",
       "       1, 0, 1, 1, 1, 0, 1, 0, 1, 1, 1, 0, 1, 1, 1, 1, 0, 1, 1, 1, 0, 1,\n",
       "       0, 1, 0, 0, 1, 1, 0, 1, 1, 1, 1, 1, 1, 0, 1, 1, 1, 1, 1, 1, 0, 1,\n",
       "       1, 1, 0, 1])"
      ]
     },
     "execution_count": 12,
     "metadata": {},
     "output_type": "execute_result"
    }
   ],
   "source": [
    "y"
   ]
  },
  {
   "cell_type": "code",
   "execution_count": 13,
   "metadata": {
    "execution": {
     "iopub.execute_input": "2020-09-17T06:50:45.141968Z",
     "iopub.status.busy": "2020-09-17T06:50:45.141116Z",
     "iopub.status.idle": "2020-09-17T06:50:45.144610Z",
     "shell.execute_reply": "2020-09-17T06:50:45.143959Z"
    },
    "papermill": {
     "duration": 0.05129,
     "end_time": "2020-09-17T06:50:45.144753",
     "exception": false,
     "start_time": "2020-09-17T06:50:45.093463",
     "status": "completed"
    },
    "tags": []
   },
   "outputs": [],
   "source": [
    "from sklearn.preprocessing import StandardScaler\n",
    "scaler = StandardScaler()"
   ]
  },
  {
   "cell_type": "code",
   "execution_count": 14,
   "metadata": {
    "execution": {
     "iopub.execute_input": "2020-09-17T06:50:45.230511Z",
     "iopub.status.busy": "2020-09-17T06:50:45.229616Z",
     "iopub.status.idle": "2020-09-17T06:50:45.234022Z",
     "shell.execute_reply": "2020-09-17T06:50:45.233222Z"
    },
    "papermill": {
     "duration": 0.04987,
     "end_time": "2020-09-17T06:50:45.234183",
     "exception": false,
     "start_time": "2020-09-17T06:50:45.184313",
     "status": "completed"
    },
    "tags": []
   },
   "outputs": [],
   "source": [
    "X=scaler.fit_transform(X)"
   ]
  },
  {
   "cell_type": "code",
   "execution_count": 15,
   "metadata": {
    "execution": {
     "iopub.execute_input": "2020-09-17T06:50:45.322535Z",
     "iopub.status.busy": "2020-09-17T06:50:45.321694Z",
     "iopub.status.idle": "2020-09-17T06:50:45.327122Z",
     "shell.execute_reply": "2020-09-17T06:50:45.326349Z"
    },
    "papermill": {
     "duration": 0.051957,
     "end_time": "2020-09-17T06:50:45.327255",
     "exception": false,
     "start_time": "2020-09-17T06:50:45.275298",
     "status": "completed"
    },
    "tags": []
   },
   "outputs": [
    {
     "data": {
      "text/plain": [
       "array([[ 1.02020406, -1.78179743, -1.49004624],\n",
       "       [ 1.02020406, -0.25358736, -1.46068138],\n",
       "       [-0.98019606, -1.11320552, -0.78528968],\n",
       "       ...,\n",
       "       [-0.98019606,  1.17910958, -1.46068138],\n",
       "       [ 1.02020406, -0.15807423, -1.07893824],\n",
       "       [-0.98019606,  1.08359645, -0.99084367]])"
      ]
     },
     "execution_count": 15,
     "metadata": {},
     "output_type": "execute_result"
    }
   ],
   "source": [
    "X"
   ]
  },
  {
   "cell_type": "code",
   "execution_count": 16,
   "metadata": {
    "execution": {
     "iopub.execute_input": "2020-09-17T06:50:45.414130Z",
     "iopub.status.busy": "2020-09-17T06:50:45.413347Z",
     "iopub.status.idle": "2020-09-17T06:50:45.487744Z",
     "shell.execute_reply": "2020-09-17T06:50:45.487095Z"
    },
    "papermill": {
     "duration": 0.120428,
     "end_time": "2020-09-17T06:50:45.487867",
     "exception": false,
     "start_time": "2020-09-17T06:50:45.367439",
     "status": "completed"
    },
    "tags": []
   },
   "outputs": [],
   "source": [
    "from sklearn.model_selection import train_test_split\n",
    "X_train,X_test,y_train,y_test = train_test_split(X,y,test_size=0.2,random_state=0)"
   ]
  },
  {
   "cell_type": "code",
   "execution_count": 17,
   "metadata": {
    "execution": {
     "iopub.execute_input": "2020-09-17T06:50:45.577811Z",
     "iopub.status.busy": "2020-09-17T06:50:45.576769Z",
     "iopub.status.idle": "2020-09-17T06:50:45.581774Z",
     "shell.execute_reply": "2020-09-17T06:50:45.580868Z"
    },
    "papermill": {
     "duration": 0.053667,
     "end_time": "2020-09-17T06:50:45.581962",
     "exception": false,
     "start_time": "2020-09-17T06:50:45.528295",
     "status": "completed"
    },
    "tags": []
   },
   "outputs": [
    {
     "name": "stdout",
     "output_type": "stream",
     "text": [
      "(320, 3)\n",
      "(80, 3)\n",
      "(320,)\n",
      "(80,)\n"
     ]
    }
   ],
   "source": [
    "print(X_train.shape)\n",
    "print(X_test.shape)\n",
    "print(y_train.shape)\n",
    "print(y_test.shape)"
   ]
  },
  {
   "cell_type": "code",
   "execution_count": 18,
   "metadata": {
    "execution": {
     "iopub.execute_input": "2020-09-17T06:50:45.675620Z",
     "iopub.status.busy": "2020-09-17T06:50:45.674758Z",
     "iopub.status.idle": "2020-09-17T06:50:52.741289Z",
     "shell.execute_reply": "2020-09-17T06:50:52.740387Z"
    },
    "papermill": {
     "duration": 7.11686,
     "end_time": "2020-09-17T06:50:52.741442",
     "exception": false,
     "start_time": "2020-09-17T06:50:45.624582",
     "status": "completed"
    },
    "tags": []
   },
   "outputs": [],
   "source": [
    "import tensorflow\n",
    "from tensorflow import keras\n",
    "from tensorflow.keras import Sequential\n",
    "from tensorflow.keras.layers import Dense"
   ]
  },
  {
   "cell_type": "code",
   "execution_count": 19,
   "metadata": {
    "execution": {
     "iopub.execute_input": "2020-09-17T06:50:52.835659Z",
     "iopub.status.busy": "2020-09-17T06:50:52.834769Z",
     "iopub.status.idle": "2020-09-17T06:50:52.952156Z",
     "shell.execute_reply": "2020-09-17T06:50:52.952822Z"
    },
    "papermill": {
     "duration": 0.168306,
     "end_time": "2020-09-17T06:50:52.953036",
     "exception": false,
     "start_time": "2020-09-17T06:50:52.784730",
     "status": "completed"
    },
    "tags": []
   },
   "outputs": [],
   "source": [
    "model=Sequential()"
   ]
  },
  {
   "cell_type": "code",
   "execution_count": 20,
   "metadata": {
    "execution": {
     "iopub.execute_input": "2020-09-17T06:50:53.057454Z",
     "iopub.status.busy": "2020-09-17T06:50:53.056274Z",
     "iopub.status.idle": "2020-09-17T06:50:53.116802Z",
     "shell.execute_reply": "2020-09-17T06:50:53.116110Z"
    },
    "papermill": {
     "duration": 0.119167,
     "end_time": "2020-09-17T06:50:53.116963",
     "exception": false,
     "start_time": "2020-09-17T06:50:52.997796",
     "status": "completed"
    },
    "tags": []
   },
   "outputs": [],
   "source": [
    "model.add(Dense(1,activation='sigmoid',input_dim=X_train.shape[1]))"
   ]
  },
  {
   "cell_type": "code",
   "execution_count": 21,
   "metadata": {
    "execution": {
     "iopub.execute_input": "2020-09-17T06:50:53.213463Z",
     "iopub.status.busy": "2020-09-17T06:50:53.212221Z",
     "iopub.status.idle": "2020-09-17T06:50:53.218360Z",
     "shell.execute_reply": "2020-09-17T06:50:53.217556Z"
    },
    "papermill": {
     "duration": 0.057158,
     "end_time": "2020-09-17T06:50:53.218517",
     "exception": false,
     "start_time": "2020-09-17T06:50:53.161359",
     "status": "completed"
    },
    "tags": []
   },
   "outputs": [
    {
     "name": "stdout",
     "output_type": "stream",
     "text": [
      "Model: \"sequential\"\n",
      "_________________________________________________________________\n",
      "Layer (type)                 Output Shape              Param #   \n",
      "=================================================================\n",
      "dense (Dense)                (None, 1)                 4         \n",
      "=================================================================\n",
      "Total params: 4\n",
      "Trainable params: 4\n",
      "Non-trainable params: 0\n",
      "_________________________________________________________________\n"
     ]
    }
   ],
   "source": [
    "model.summary()"
   ]
  },
  {
   "cell_type": "code",
   "execution_count": 22,
   "metadata": {
    "execution": {
     "iopub.execute_input": "2020-09-17T06:50:53.325492Z",
     "iopub.status.busy": "2020-09-17T06:50:53.324335Z",
     "iopub.status.idle": "2020-09-17T06:50:53.333662Z",
     "shell.execute_reply": "2020-09-17T06:50:53.332791Z"
    },
    "papermill": {
     "duration": 0.070799,
     "end_time": "2020-09-17T06:50:53.333815",
     "exception": false,
     "start_time": "2020-09-17T06:50:53.263016",
     "status": "completed"
    },
    "tags": []
   },
   "outputs": [],
   "source": [
    "model.compile(optimizer='Adam',loss='binary_crossentropy',metrics=['accuracy'])"
   ]
  },
  {
   "cell_type": "code",
   "execution_count": 23,
   "metadata": {
    "execution": {
     "iopub.execute_input": "2020-09-17T06:50:53.431545Z",
     "iopub.status.busy": "2020-09-17T06:50:53.429246Z",
     "iopub.status.idle": "2020-09-17T06:50:56.241472Z",
     "shell.execute_reply": "2020-09-17T06:50:56.240630Z"
    },
    "papermill": {
     "duration": 2.863513,
     "end_time": "2020-09-17T06:50:56.241624",
     "exception": false,
     "start_time": "2020-09-17T06:50:53.378111",
     "status": "completed"
    },
    "tags": []
   },
   "outputs": [
    {
     "name": "stdout",
     "output_type": "stream",
     "text": [
      "Epoch 1/100\n",
      "9/9 [==============================] - 0s 1ms/step - loss: 1.4488 - accuracy: 0.1969\n",
      "Epoch 2/100\n",
      "9/9 [==============================] - 0s 1ms/step - loss: 1.4402 - accuracy: 0.1937\n",
      "Epoch 3/100\n",
      "9/9 [==============================] - 0s 1ms/step - loss: 1.4313 - accuracy: 0.1937\n",
      "Epoch 4/100\n",
      "9/9 [==============================] - 0s 1ms/step - loss: 1.4229 - accuracy: 0.1937\n",
      "Epoch 5/100\n",
      "9/9 [==============================] - 0s 1ms/step - loss: 1.4142 - accuracy: 0.1937\n",
      "Epoch 6/100\n",
      "9/9 [==============================] - 0s 1ms/step - loss: 1.4058 - accuracy: 0.1969\n",
      "Epoch 7/100\n",
      "9/9 [==============================] - 0s 2ms/step - loss: 1.3976 - accuracy: 0.1937\n",
      "Epoch 8/100\n",
      "9/9 [==============================] - 0s 1ms/step - loss: 1.3889 - accuracy: 0.1969\n",
      "Epoch 9/100\n",
      "9/9 [==============================] - 0s 1ms/step - loss: 1.3803 - accuracy: 0.2000\n",
      "Epoch 10/100\n",
      "9/9 [==============================] - 0s 2ms/step - loss: 1.3724 - accuracy: 0.2031\n",
      "Epoch 11/100\n",
      "9/9 [==============================] - 0s 1ms/step - loss: 1.3639 - accuracy: 0.2062\n",
      "Epoch 12/100\n",
      "9/9 [==============================] - 0s 1ms/step - loss: 1.3557 - accuracy: 0.2062\n",
      "Epoch 13/100\n",
      "9/9 [==============================] - 0s 1ms/step - loss: 1.3474 - accuracy: 0.2125\n",
      "Epoch 14/100\n",
      "9/9 [==============================] - 0s 2ms/step - loss: 1.3393 - accuracy: 0.2125\n",
      "Epoch 15/100\n",
      "9/9 [==============================] - 0s 2ms/step - loss: 1.3312 - accuracy: 0.2125\n",
      "Epoch 16/100\n",
      "9/9 [==============================] - 0s 2ms/step - loss: 1.3231 - accuracy: 0.2188\n",
      "Epoch 17/100\n",
      "9/9 [==============================] - 0s 2ms/step - loss: 1.3149 - accuracy: 0.2188\n",
      "Epoch 18/100\n",
      "9/9 [==============================] - 0s 1ms/step - loss: 1.3072 - accuracy: 0.2250\n",
      "Epoch 19/100\n",
      "9/9 [==============================] - 0s 1ms/step - loss: 1.2990 - accuracy: 0.2281\n",
      "Epoch 20/100\n",
      "9/9 [==============================] - 0s 1ms/step - loss: 1.2913 - accuracy: 0.2281\n",
      "Epoch 21/100\n",
      "9/9 [==============================] - 0s 1ms/step - loss: 1.2833 - accuracy: 0.2281\n",
      "Epoch 22/100\n",
      "9/9 [==============================] - 0s 1ms/step - loss: 1.2754 - accuracy: 0.2313\n",
      "Epoch 23/100\n",
      "9/9 [==============================] - 0s 1ms/step - loss: 1.2679 - accuracy: 0.2281\n",
      "Epoch 24/100\n",
      "9/9 [==============================] - 0s 2ms/step - loss: 1.2600 - accuracy: 0.2344\n",
      "Epoch 25/100\n",
      "9/9 [==============================] - 0s 1ms/step - loss: 1.2523 - accuracy: 0.2313\n",
      "Epoch 26/100\n",
      "9/9 [==============================] - 0s 1ms/step - loss: 1.2444 - accuracy: 0.2406\n",
      "Epoch 27/100\n",
      "9/9 [==============================] - 0s 1ms/step - loss: 1.2372 - accuracy: 0.2406\n",
      "Epoch 28/100\n",
      "9/9 [==============================] - 0s 1ms/step - loss: 1.2298 - accuracy: 0.2406\n",
      "Epoch 29/100\n",
      "9/9 [==============================] - 0s 1ms/step - loss: 1.2220 - accuracy: 0.2406\n",
      "Epoch 30/100\n",
      "9/9 [==============================] - 0s 2ms/step - loss: 1.2145 - accuracy: 0.2406\n",
      "Epoch 31/100\n",
      "9/9 [==============================] - 0s 1ms/step - loss: 1.2074 - accuracy: 0.2375\n",
      "Epoch 32/100\n",
      "9/9 [==============================] - 0s 1ms/step - loss: 1.1997 - accuracy: 0.2375\n",
      "Epoch 33/100\n",
      "9/9 [==============================] - 0s 1ms/step - loss: 1.1926 - accuracy: 0.2375\n",
      "Epoch 34/100\n",
      "9/9 [==============================] - 0s 1ms/step - loss: 1.1853 - accuracy: 0.2375\n",
      "Epoch 35/100\n",
      "9/9 [==============================] - 0s 1ms/step - loss: 1.1780 - accuracy: 0.2375\n",
      "Epoch 36/100\n",
      "9/9 [==============================] - 0s 1ms/step - loss: 1.1710 - accuracy: 0.2406\n",
      "Epoch 37/100\n",
      "9/9 [==============================] - 0s 1ms/step - loss: 1.1636 - accuracy: 0.2438\n",
      "Epoch 38/100\n",
      "9/9 [==============================] - 0s 1ms/step - loss: 1.1567 - accuracy: 0.2500\n",
      "Epoch 39/100\n",
      "9/9 [==============================] - 0s 1ms/step - loss: 1.1498 - accuracy: 0.2531\n",
      "Epoch 40/100\n",
      "9/9 [==============================] - 0s 1ms/step - loss: 1.1424 - accuracy: 0.2562\n",
      "Epoch 41/100\n",
      "9/9 [==============================] - 0s 1ms/step - loss: 1.1359 - accuracy: 0.2594\n",
      "Epoch 42/100\n",
      "9/9 [==============================] - 0s 1ms/step - loss: 1.1289 - accuracy: 0.2625\n",
      "Epoch 43/100\n",
      "9/9 [==============================] - 0s 1ms/step - loss: 1.1219 - accuracy: 0.2625\n",
      "Epoch 44/100\n",
      "9/9 [==============================] - 0s 1ms/step - loss: 1.1154 - accuracy: 0.2656\n",
      "Epoch 45/100\n",
      "9/9 [==============================] - 0s 1ms/step - loss: 1.1084 - accuracy: 0.2656\n",
      "Epoch 46/100\n",
      "9/9 [==============================] - 0s 1ms/step - loss: 1.1018 - accuracy: 0.2688\n",
      "Epoch 47/100\n",
      "9/9 [==============================] - 0s 1ms/step - loss: 1.0953 - accuracy: 0.2688\n",
      "Epoch 48/100\n",
      "9/9 [==============================] - 0s 1ms/step - loss: 1.0884 - accuracy: 0.2688\n",
      "Epoch 49/100\n",
      "9/9 [==============================] - 0s 1ms/step - loss: 1.0823 - accuracy: 0.2688\n",
      "Epoch 50/100\n",
      "9/9 [==============================] - 0s 1ms/step - loss: 1.0755 - accuracy: 0.2719\n",
      "Epoch 51/100\n",
      "9/9 [==============================] - 0s 1ms/step - loss: 1.0690 - accuracy: 0.2719\n",
      "Epoch 52/100\n",
      "9/9 [==============================] - 0s 1ms/step - loss: 1.0625 - accuracy: 0.2750\n",
      "Epoch 53/100\n",
      "9/9 [==============================] - 0s 1ms/step - loss: 1.0564 - accuracy: 0.2750\n",
      "Epoch 54/100\n",
      "9/9 [==============================] - 0s 1ms/step - loss: 1.0500 - accuracy: 0.2844\n",
      "Epoch 55/100\n",
      "9/9 [==============================] - 0s 1ms/step - loss: 1.0438 - accuracy: 0.2844\n",
      "Epoch 56/100\n",
      "9/9 [==============================] - 0s 1ms/step - loss: 1.0376 - accuracy: 0.2875\n",
      "Epoch 57/100\n",
      "9/9 [==============================] - 0s 1ms/step - loss: 1.0314 - accuracy: 0.2937\n",
      "Epoch 58/100\n",
      "9/9 [==============================] - 0s 1ms/step - loss: 1.0253 - accuracy: 0.2937\n",
      "Epoch 59/100\n",
      "9/9 [==============================] - 0s 1ms/step - loss: 1.0192 - accuracy: 0.2937\n",
      "Epoch 60/100\n",
      "9/9 [==============================] - 0s 1ms/step - loss: 1.0131 - accuracy: 0.2969\n",
      "Epoch 61/100\n",
      "9/9 [==============================] - 0s 1ms/step - loss: 1.0073 - accuracy: 0.3094\n",
      "Epoch 62/100\n",
      "9/9 [==============================] - 0s 2ms/step - loss: 1.0012 - accuracy: 0.3094\n",
      "Epoch 63/100\n",
      "9/9 [==============================] - 0s 1ms/step - loss: 0.9953 - accuracy: 0.3094\n",
      "Epoch 64/100\n",
      "9/9 [==============================] - 0s 1ms/step - loss: 0.9897 - accuracy: 0.3125\n",
      "Epoch 65/100\n",
      "9/9 [==============================] - 0s 1ms/step - loss: 0.9837 - accuracy: 0.3125\n",
      "Epoch 66/100\n",
      "9/9 [==============================] - 0s 1ms/step - loss: 0.9780 - accuracy: 0.3156\n",
      "Epoch 67/100\n",
      "9/9 [==============================] - 0s 1ms/step - loss: 0.9723 - accuracy: 0.3219\n",
      "Epoch 68/100\n",
      "9/9 [==============================] - 0s 1ms/step - loss: 0.9665 - accuracy: 0.3250\n",
      "Epoch 69/100\n",
      "9/9 [==============================] - 0s 1ms/step - loss: 0.9611 - accuracy: 0.3344\n",
      "Epoch 70/100\n",
      "9/9 [==============================] - 0s 1ms/step - loss: 0.9555 - accuracy: 0.3344\n",
      "Epoch 71/100\n",
      "9/9 [==============================] - 0s 1ms/step - loss: 0.9498 - accuracy: 0.3344\n",
      "Epoch 72/100\n",
      "9/9 [==============================] - 0s 1ms/step - loss: 0.9445 - accuracy: 0.3344\n",
      "Epoch 73/100\n",
      "9/9 [==============================] - 0s 1ms/step - loss: 0.9390 - accuracy: 0.3375\n",
      "Epoch 74/100\n",
      "9/9 [==============================] - 0s 1ms/step - loss: 0.9336 - accuracy: 0.3375\n",
      "Epoch 75/100\n",
      "9/9 [==============================] - 0s 1ms/step - loss: 0.9283 - accuracy: 0.3375\n",
      "Epoch 76/100\n",
      "9/9 [==============================] - 0s 1ms/step - loss: 0.9230 - accuracy: 0.3469\n",
      "Epoch 77/100\n",
      "9/9 [==============================] - 0s 1ms/step - loss: 0.9177 - accuracy: 0.3500\n",
      "Epoch 78/100\n",
      "9/9 [==============================] - 0s 1ms/step - loss: 0.9125 - accuracy: 0.3562\n",
      "Epoch 79/100\n",
      "9/9 [==============================] - 0s 1ms/step - loss: 0.9075 - accuracy: 0.3562\n",
      "Epoch 80/100\n",
      "9/9 [==============================] - 0s 1ms/step - loss: 0.9023 - accuracy: 0.3625\n",
      "Epoch 81/100\n",
      "9/9 [==============================] - 0s 1ms/step - loss: 0.8972 - accuracy: 0.3688\n",
      "Epoch 82/100\n",
      "9/9 [==============================] - 0s 1ms/step - loss: 0.8921 - accuracy: 0.3750\n",
      "Epoch 83/100\n",
      "9/9 [==============================] - 0s 1ms/step - loss: 0.8873 - accuracy: 0.3812\n",
      "Epoch 84/100\n",
      "9/9 [==============================] - 0s 1ms/step - loss: 0.8823 - accuracy: 0.3812\n",
      "Epoch 85/100\n",
      "9/9 [==============================] - 0s 1ms/step - loss: 0.8773 - accuracy: 0.3844\n",
      "Epoch 86/100\n",
      "9/9 [==============================] - 0s 1ms/step - loss: 0.8726 - accuracy: 0.3844\n",
      "Epoch 87/100\n",
      "9/9 [==============================] - 0s 1ms/step - loss: 0.8679 - accuracy: 0.3906\n",
      "Epoch 88/100\n",
      "9/9 [==============================] - 0s 1ms/step - loss: 0.8629 - accuracy: 0.3969\n",
      "Epoch 89/100\n",
      "9/9 [==============================] - 0s 1ms/step - loss: 0.8583 - accuracy: 0.4031\n",
      "Epoch 90/100\n",
      "9/9 [==============================] - 0s 1ms/step - loss: 0.8538 - accuracy: 0.4125\n",
      "Epoch 91/100\n",
      "9/9 [==============================] - 0s 1ms/step - loss: 0.8490 - accuracy: 0.4156\n",
      "Epoch 92/100\n",
      "9/9 [==============================] - 0s 1ms/step - loss: 0.8446 - accuracy: 0.4156\n",
      "Epoch 93/100\n",
      "9/9 [==============================] - 0s 1ms/step - loss: 0.8399 - accuracy: 0.4187\n",
      "Epoch 94/100\n",
      "9/9 [==============================] - 0s 1ms/step - loss: 0.8354 - accuracy: 0.4219\n",
      "Epoch 95/100\n",
      "9/9 [==============================] - 0s 1ms/step - loss: 0.8310 - accuracy: 0.4406\n",
      "Epoch 96/100\n",
      "9/9 [==============================] - 0s 1ms/step - loss: 0.8266 - accuracy: 0.4437\n",
      "Epoch 97/100\n",
      "9/9 [==============================] - 0s 1ms/step - loss: 0.8223 - accuracy: 0.4500\n",
      "Epoch 98/100\n",
      "9/9 [==============================] - 0s 1ms/step - loss: 0.8179 - accuracy: 0.4531\n",
      "Epoch 99/100\n",
      "9/9 [==============================] - 0s 1ms/step - loss: 0.8136 - accuracy: 0.4625\n",
      "Epoch 100/100\n",
      "9/9 [==============================] - 0s 1ms/step - loss: 0.8095 - accuracy: 0.4688\n"
     ]
    },
    {
     "data": {
      "text/plain": [
       "<tensorflow.python.keras.callbacks.History at 0x7fd92c403fd0>"
      ]
     },
     "execution_count": 23,
     "metadata": {},
     "output_type": "execute_result"
    }
   ],
   "source": [
    "model.fit(X_train,y_train,batch_size=36,epochs=100,verbose=1)"
   ]
  },
  {
   "cell_type": "code",
   "execution_count": 24,
   "metadata": {
    "execution": {
     "iopub.execute_input": "2020-09-17T06:50:56.526558Z",
     "iopub.status.busy": "2020-09-17T06:50:56.525590Z",
     "iopub.status.idle": "2020-09-17T06:50:56.755704Z",
     "shell.execute_reply": "2020-09-17T06:50:56.756334Z"
    },
    "papermill": {
     "duration": 0.37497,
     "end_time": "2020-09-17T06:50:56.756546",
     "exception": false,
     "start_time": "2020-09-17T06:50:56.381576",
     "status": "completed"
    },
    "tags": []
   },
   "outputs": [
    {
     "name": "stdout",
     "output_type": "stream",
     "text": [
      "3/3 [==============================] - 0s 2ms/step - loss: 0.7997 - accuracy: 0.4500\n"
     ]
    },
    {
     "data": {
      "text/plain": [
       "[0.7996659874916077, 0.44999998807907104]"
      ]
     },
     "execution_count": 24,
     "metadata": {},
     "output_type": "execute_result"
    }
   ],
   "source": [
    "model.evaluate(X_test,y_test)"
   ]
  },
  {
   "cell_type": "code",
   "execution_count": 25,
   "metadata": {
    "execution": {
     "iopub.execute_input": "2020-09-17T06:50:57.046874Z",
     "iopub.status.busy": "2020-09-17T06:50:57.045834Z",
     "iopub.status.idle": "2020-09-17T06:50:57.053513Z",
     "shell.execute_reply": "2020-09-17T06:50:57.052767Z"
    },
    "papermill": {
     "duration": 0.153492,
     "end_time": "2020-09-17T06:50:57.053653",
     "exception": false,
     "start_time": "2020-09-17T06:50:56.900161",
     "status": "completed"
    },
    "tags": []
   },
   "outputs": [
    {
     "data": {
      "text/plain": [
       "[array([[-0.08375267],\n",
       "        [-0.37644053],\n",
       "        [-0.11051611]], dtype=float32),\n",
       " array([-0.40159088], dtype=float32)]"
      ]
     },
     "execution_count": 25,
     "metadata": {},
     "output_type": "execute_result"
    }
   ],
   "source": [
    "model.get_weights()"
   ]
  },
  {
   "cell_type": "code",
   "execution_count": 26,
   "metadata": {
    "execution": {
     "iopub.execute_input": "2020-09-17T06:50:57.323260Z",
     "iopub.status.busy": "2020-09-17T06:50:57.322329Z",
     "iopub.status.idle": "2020-09-17T06:50:57.326510Z",
     "shell.execute_reply": "2020-09-17T06:50:57.325818Z"
    },
    "papermill": {
     "duration": 0.141236,
     "end_time": "2020-09-17T06:50:57.326638",
     "exception": false,
     "start_time": "2020-09-17T06:50:57.185402",
     "status": "completed"
    },
    "tags": []
   },
   "outputs": [],
   "source": [
    "#initializing my weights and bias\n",
    "\n",
    "weights=np.ones(X_train.shape[1])\n",
    "bias = 0"
   ]
  },
  {
   "cell_type": "code",
   "execution_count": 27,
   "metadata": {
    "execution": {
     "iopub.execute_input": "2020-09-17T06:50:57.598674Z",
     "iopub.status.busy": "2020-09-17T06:50:57.597536Z",
     "iopub.status.idle": "2020-09-17T06:50:57.603818Z",
     "shell.execute_reply": "2020-09-17T06:50:57.603186Z"
    },
    "papermill": {
     "duration": 0.146154,
     "end_time": "2020-09-17T06:50:57.603966",
     "exception": false,
     "start_time": "2020-09-17T06:50:57.457812",
     "status": "completed"
    },
    "tags": []
   },
   "outputs": [
    {
     "name": "stdout",
     "output_type": "stream",
     "text": [
      "[1. 1. 1.]\n",
      "0\n"
     ]
    }
   ],
   "source": [
    "print(weights)\n",
    "print(bias)"
   ]
  },
  {
   "cell_type": "code",
   "execution_count": 28,
   "metadata": {
    "execution": {
     "iopub.execute_input": "2020-09-17T06:50:57.882890Z",
     "iopub.status.busy": "2020-09-17T06:50:57.882131Z",
     "iopub.status.idle": "2020-09-17T06:50:57.886771Z",
     "shell.execute_reply": "2020-09-17T06:50:57.886085Z"
    },
    "papermill": {
     "duration": 0.144868,
     "end_time": "2020-09-17T06:50:57.886901",
     "exception": false,
     "start_time": "2020-09-17T06:50:57.742033",
     "status": "completed"
    },
    "tags": []
   },
   "outputs": [],
   "source": [
    "def sigmoid(z):\n",
    "    \n",
    "    return 1/(1+np.exp(-z))"
   ]
  },
  {
   "cell_type": "code",
   "execution_count": 29,
   "metadata": {
    "execution": {
     "iopub.execute_input": "2020-09-17T06:50:58.187515Z",
     "iopub.status.busy": "2020-09-17T06:50:58.186487Z",
     "iopub.status.idle": "2020-09-17T06:50:58.252935Z",
     "shell.execute_reply": "2020-09-17T06:50:58.252126Z"
    },
    "papermill": {
     "duration": 0.228186,
     "end_time": "2020-09-17T06:50:58.253150",
     "exception": false,
     "start_time": "2020-09-17T06:50:58.024964",
     "status": "completed"
    },
    "tags": []
   },
   "outputs": [],
   "source": [
    "y_hat = sigmoid(np.dot(X_train,weights)+bias)"
   ]
  },
  {
   "cell_type": "code",
   "execution_count": 30,
   "metadata": {
    "execution": {
     "iopub.execute_input": "2020-09-17T06:50:58.631864Z",
     "iopub.status.busy": "2020-09-17T06:50:58.630579Z",
     "iopub.status.idle": "2020-09-17T06:50:58.635296Z",
     "shell.execute_reply": "2020-09-17T06:50:58.636143Z"
    },
    "papermill": {
     "duration": 0.200081,
     "end_time": "2020-09-17T06:50:58.636379",
     "exception": false,
     "start_time": "2020-09-17T06:50:58.436298",
     "status": "completed"
    },
    "tags": []
   },
   "outputs": [
    {
     "data": {
      "text/plain": [
       "array([0.99419942, 0.80966521, 0.06195793, 0.04254933, 0.50772553,\n",
       "       0.43438522, 0.35392466, 0.99206405, 0.26363538, 0.27953048,\n",
       "       0.7801569 , 0.76790752, 0.04660123, 0.2196936 , 0.53360967,\n",
       "       0.22673485, 0.35950036, 0.71694322, 0.93106377, 0.91991371,\n",
       "       0.21807593, 0.87608655, 0.17843602, 0.59771526, 0.26088444,\n",
       "       0.81629123, 0.58273589, 0.68921113, 0.15212819, 0.20812531,\n",
       "       0.07258516, 0.54658476, 0.82213278, 0.33253843, 0.46558799,\n",
       "       0.8770232 , 0.82056286, 0.25915939, 0.54408541, 0.34569953,\n",
       "       0.15439904, 0.98372445, 0.57288737, 0.91199521, 0.25791521,\n",
       "       0.61091612, 0.76210737, 0.8693018 , 0.58005672, 0.92354789,\n",
       "       0.02410567, 0.91211929, 0.14503642, 0.97730366, 0.64288517,\n",
       "       0.44585634, 0.87210687, 0.66005033, 0.80313216, 0.60760494,\n",
       "       0.19052336, 0.09058272, 0.6247092 , 0.85023159, 0.23730857,\n",
       "       0.71147847, 0.78263844, 0.92647198, 0.88983985, 0.71524631,\n",
       "       0.62311366, 0.27212168, 0.3099663 , 0.68921113, 0.90699391,\n",
       "       0.09058272, 0.95225354, 0.78515187, 0.55186491, 0.96102091,\n",
       "       0.62478173, 0.06772733, 0.06547927, 0.86371087, 0.10700596,\n",
       "       0.64505443, 0.58273589, 0.84049606, 0.4504726 , 0.57889756,\n",
       "       0.23203479, 0.7241626 , 0.46601936, 0.63185602, 0.73785934,\n",
       "       0.88207819, 0.59493333, 0.5208206 , 0.9163925 , 0.71549829,\n",
       "       0.17948058, 0.46143689, 0.79949037, 0.71694322, 0.41108191,\n",
       "       0.68545053, 0.24326773, 0.17094996, 0.96341372, 0.77596103,\n",
       "       0.02625146, 0.90714005, 0.50741622, 0.22189474, 0.05321704,\n",
       "       0.81557683, 0.81784415, 0.56066889, 0.48547456, 0.80072633,\n",
       "       0.09816098, 0.70474584, 0.99456868, 0.397238  , 0.36768196,\n",
       "       0.76541935, 0.93318332, 0.38024448, 0.86771338, 0.2679179 ,\n",
       "       0.11711886, 0.60937226, 0.78515187, 0.18486832, 0.67649361,\n",
       "       0.15779428, 0.04597357, 0.26779655, 0.05174157, 0.26652582,\n",
       "       0.70641548, 0.25227663, 0.02801325, 0.64370892, 0.98370958,\n",
       "       0.02552657, 0.39332169, 0.23736457, 0.02820748, 0.26127856,\n",
       "       0.91320331, 0.60391386, 0.92317618, 0.70332897, 0.3340494 ,\n",
       "       0.79715136, 0.01487173, 0.60021091, 0.7862967 , 0.26692539,\n",
       "       0.22066972, 0.71681764, 0.36423927, 0.69696943, 0.7966705 ,\n",
       "       0.21560882, 0.30686761, 0.36794118, 0.58611398, 0.63837423,\n",
       "       0.64540853, 0.72858595, 0.87124244, 0.34388382, 0.39871893,\n",
       "       0.3196336 , 0.3324011 , 0.1115059 , 0.32266592, 0.64015633,\n",
       "       0.69395809, 0.9230664 , 0.23352545, 0.62567886, 0.89856118,\n",
       "       0.08532743, 0.74839724, 0.24815938, 0.02341737, 0.15304743,\n",
       "       0.89409866, 0.39901565, 0.92771743, 0.46689523, 0.93014557,\n",
       "       0.64342505, 0.84614777, 0.06821691, 0.88012276, 0.32806737,\n",
       "       0.80195657, 0.06595375, 0.84018045, 0.11978528, 0.12183354,\n",
       "       0.80025183, 0.03252341, 0.17007573, 0.58266066, 0.83018411,\n",
       "       0.81066342, 0.568314  , 0.95844139, 0.07657358, 0.71753147,\n",
       "       0.50993553, 0.09373764, 0.15701553, 0.21107552, 0.09520813,\n",
       "       0.90280799, 0.9360282 , 0.70313527, 0.7659524 , 0.16021698,\n",
       "       0.35562284, 0.19504476, 0.33103089, 0.12028773, 0.75250713,\n",
       "       0.07765149, 0.15882401, 0.72570359, 0.90072696, 0.84416562,\n",
       "       0.31175438, 0.9903389 , 0.48420917, 0.70151964, 0.15827194,\n",
       "       0.3630669 , 0.35562284, 0.44600922, 0.90880311, 0.85896317,\n",
       "       0.34892262, 0.12579003, 0.73573821, 0.29761161, 0.57326584,\n",
       "       0.4126541 , 0.21837168, 0.74699776, 0.73579836, 0.93519027,\n",
       "       0.59142756, 0.69959975, 0.70474584, 0.89137577, 0.8687604 ,\n",
       "       0.37653633, 0.74839724, 0.90144333, 0.19514192, 0.11638576,\n",
       "       0.06872957, 0.84610749, 0.22102125, 0.95415594, 0.35623302,\n",
       "       0.44776646, 0.45871986, 0.64865572, 0.35562284, 0.73791918,\n",
       "       0.49427985, 0.01553339, 0.23124322, 0.56823809, 0.31949906,\n",
       "       0.83362517, 0.33908789, 0.13850803, 0.41100701, 0.61226657,\n",
       "       0.16931831, 0.05396958, 0.20098404, 0.16790524, 0.02515249,\n",
       "       0.85544465, 0.70474584, 0.63604394, 0.01730902, 0.75118074,\n",
       "       0.61113672, 0.08470223, 0.73855311, 0.44733783, 0.22045697,\n",
       "       0.31016485, 0.04166418, 0.3199434 , 0.35895889, 0.55911557,\n",
       "       0.52814408, 0.18933438, 0.85497055, 0.67591081, 0.93338757,\n",
       "       0.99139773, 0.20212812, 0.72570359, 0.47148445, 0.6074574 ,\n",
       "       0.23882258, 0.35623302, 0.5844635 , 0.07869839, 0.33708157])"
      ]
     },
     "execution_count": 30,
     "metadata": {},
     "output_type": "execute_result"
    }
   ],
   "source": [
    "y_hat"
   ]
  },
  {
   "cell_type": "code",
   "execution_count": 31,
   "metadata": {
    "execution": {
     "iopub.execute_input": "2020-09-17T06:50:58.939296Z",
     "iopub.status.busy": "2020-09-17T06:50:58.938386Z",
     "iopub.status.idle": "2020-09-17T06:50:58.944806Z",
     "shell.execute_reply": "2020-09-17T06:50:58.943839Z"
    },
    "papermill": {
     "duration": 0.147658,
     "end_time": "2020-09-17T06:50:58.945034",
     "exception": false,
     "start_time": "2020-09-17T06:50:58.797376",
     "status": "completed"
    },
    "tags": []
   },
   "outputs": [
    {
     "data": {
      "text/plain": [
       "(320,)"
      ]
     },
     "execution_count": 31,
     "metadata": {},
     "output_type": "execute_result"
    }
   ],
   "source": [
    "y_hat.shape"
   ]
  },
  {
   "cell_type": "code",
   "execution_count": 32,
   "metadata": {
    "execution": {
     "iopub.execute_input": "2020-09-17T06:50:59.240386Z",
     "iopub.status.busy": "2020-09-17T06:50:59.239383Z",
     "iopub.status.idle": "2020-09-17T06:50:59.243181Z",
     "shell.execute_reply": "2020-09-17T06:50:59.242345Z"
    },
    "papermill": {
     "duration": 0.154552,
     "end_time": "2020-09-17T06:50:59.243357",
     "exception": false,
     "start_time": "2020-09-17T06:50:59.088805",
     "status": "completed"
    },
    "tags": []
   },
   "outputs": [],
   "source": [
    "#finding the loss for every point\n",
    "\n",
    "loss = np.mean(-y_train*np.log(y_hat)- (1-y_train)*np.log(1-y_hat))"
   ]
  },
  {
   "cell_type": "code",
   "execution_count": 33,
   "metadata": {
    "execution": {
     "iopub.execute_input": "2020-09-17T06:50:59.534100Z",
     "iopub.status.busy": "2020-09-17T06:50:59.533034Z",
     "iopub.status.idle": "2020-09-17T06:50:59.538403Z",
     "shell.execute_reply": "2020-09-17T06:50:59.539051Z"
    },
    "papermill": {
     "duration": 0.15406,
     "end_time": "2020-09-17T06:50:59.539242",
     "exception": false,
     "start_time": "2020-09-17T06:50:59.385182",
     "status": "completed"
    },
    "tags": []
   },
   "outputs": [
    {
     "data": {
      "text/plain": [
       "0.5680218067917625"
      ]
     },
     "execution_count": 33,
     "metadata": {},
     "output_type": "execute_result"
    }
   ],
   "source": [
    "loss"
   ]
  },
  {
   "cell_type": "code",
   "execution_count": 34,
   "metadata": {
    "execution": {
     "iopub.execute_input": "2020-09-17T06:50:59.838469Z",
     "iopub.status.busy": "2020-09-17T06:50:59.837588Z",
     "iopub.status.idle": "2020-09-17T06:50:59.841083Z",
     "shell.execute_reply": "2020-09-17T06:50:59.841667Z"
    },
    "papermill": {
     "duration": 0.162245,
     "end_time": "2020-09-17T06:50:59.841865",
     "exception": false,
     "start_time": "2020-09-17T06:50:59.679620",
     "status": "completed"
    },
    "tags": []
   },
   "outputs": [],
   "source": [
    "lr = 0.1 #learning rate"
   ]
  },
  {
   "cell_type": "code",
   "execution_count": 35,
   "metadata": {
    "execution": {
     "iopub.execute_input": "2020-09-17T06:51:00.138354Z",
     "iopub.status.busy": "2020-09-17T06:51:00.137335Z",
     "iopub.status.idle": "2020-09-17T06:51:00.144111Z",
     "shell.execute_reply": "2020-09-17T06:51:00.143241Z"
    },
    "papermill": {
     "duration": 0.160678,
     "end_time": "2020-09-17T06:51:00.144286",
     "exception": false,
     "start_time": "2020-09-17T06:50:59.983608",
     "status": "completed"
    },
    "tags": []
   },
   "outputs": [],
   "source": [
    "w_derivative = -(np.dot((y_train - y_hat),X_train))/X_train.shape[0] "
   ]
  },
  {
   "cell_type": "code",
   "execution_count": 36,
   "metadata": {
    "execution": {
     "iopub.execute_input": "2020-09-17T06:51:00.482833Z",
     "iopub.status.busy": "2020-09-17T06:51:00.481803Z",
     "iopub.status.idle": "2020-09-17T06:51:00.486490Z",
     "shell.execute_reply": "2020-09-17T06:51:00.487146Z"
    },
    "papermill": {
     "duration": 0.162868,
     "end_time": "2020-09-17T06:51:00.487337",
     "exception": false,
     "start_time": "2020-09-17T06:51:00.324469",
     "status": "completed"
    },
    "tags": []
   },
   "outputs": [
    {
     "data": {
      "text/plain": [
       "array([ 0.17803284, -0.10865455,  0.00730163])"
      ]
     },
     "execution_count": 36,
     "metadata": {},
     "output_type": "execute_result"
    }
   ],
   "source": [
    "w_derivative"
   ]
  },
  {
   "cell_type": "code",
   "execution_count": 37,
   "metadata": {
    "execution": {
     "iopub.execute_input": "2020-09-17T06:51:00.776187Z",
     "iopub.status.busy": "2020-09-17T06:51:00.774943Z",
     "iopub.status.idle": "2020-09-17T06:51:00.779236Z",
     "shell.execute_reply": "2020-09-17T06:51:00.778480Z"
    },
    "papermill": {
     "duration": 0.151244,
     "end_time": "2020-09-17T06:51:00.779394",
     "exception": false,
     "start_time": "2020-09-17T06:51:00.628150",
     "status": "completed"
    },
    "tags": []
   },
   "outputs": [],
   "source": [
    "b_derivative = -np.mean(y_train - y_hat)"
   ]
  },
  {
   "cell_type": "code",
   "execution_count": 38,
   "metadata": {
    "execution": {
     "iopub.execute_input": "2020-09-17T06:51:01.079624Z",
     "iopub.status.busy": "2020-09-17T06:51:01.078481Z",
     "iopub.status.idle": "2020-09-17T06:51:01.083981Z",
     "shell.execute_reply": "2020-09-17T06:51:01.083207Z"
    },
    "papermill": {
     "duration": 0.159893,
     "end_time": "2020-09-17T06:51:01.084158",
     "exception": false,
     "start_time": "2020-09-17T06:51:00.924265",
     "status": "completed"
    },
    "tags": []
   },
   "outputs": [
    {
     "data": {
      "text/plain": [
       "0.13164203410433797"
      ]
     },
     "execution_count": 38,
     "metadata": {},
     "output_type": "execute_result"
    }
   ],
   "source": [
    "b_derivative"
   ]
  },
  {
   "cell_type": "code",
   "execution_count": 39,
   "metadata": {
    "execution": {
     "iopub.execute_input": "2020-09-17T06:51:01.376252Z",
     "iopub.status.busy": "2020-09-17T06:51:01.375464Z",
     "iopub.status.idle": "2020-09-17T06:51:01.378906Z",
     "shell.execute_reply": "2020-09-17T06:51:01.379470Z"
    },
    "papermill": {
     "duration": 0.153262,
     "end_time": "2020-09-17T06:51:01.379651",
     "exception": false,
     "start_time": "2020-09-17T06:51:01.226389",
     "status": "completed"
    },
    "tags": []
   },
   "outputs": [],
   "source": [
    "weights = weights-(lr*w_derivative)\n",
    "bias = bias - (lr*b_derivative)"
   ]
  },
  {
   "cell_type": "code",
   "execution_count": 40,
   "metadata": {
    "execution": {
     "iopub.execute_input": "2020-09-17T06:51:01.657738Z",
     "iopub.status.busy": "2020-09-17T06:51:01.656614Z",
     "iopub.status.idle": "2020-09-17T06:51:01.661797Z",
     "shell.execute_reply": "2020-09-17T06:51:01.661018Z"
    },
    "papermill": {
     "duration": 0.147138,
     "end_time": "2020-09-17T06:51:01.661939",
     "exception": false,
     "start_time": "2020-09-17T06:51:01.514801",
     "status": "completed"
    },
    "tags": []
   },
   "outputs": [
    {
     "data": {
      "text/plain": [
       "array([0.98219672, 1.01086546, 0.99926984])"
      ]
     },
     "execution_count": 40,
     "metadata": {},
     "output_type": "execute_result"
    }
   ],
   "source": [
    "weights "
   ]
  },
  {
   "cell_type": "code",
   "execution_count": 41,
   "metadata": {
    "execution": {
     "iopub.execute_input": "2020-09-17T06:51:01.951106Z",
     "iopub.status.busy": "2020-09-17T06:51:01.950210Z",
     "iopub.status.idle": "2020-09-17T06:51:01.955327Z",
     "shell.execute_reply": "2020-09-17T06:51:01.954595Z"
    },
    "papermill": {
     "duration": 0.150683,
     "end_time": "2020-09-17T06:51:01.955494",
     "exception": false,
     "start_time": "2020-09-17T06:51:01.804811",
     "status": "completed"
    },
    "tags": []
   },
   "outputs": [
    {
     "data": {
      "text/plain": [
       "-0.013164203410433797"
      ]
     },
     "execution_count": 41,
     "metadata": {},
     "output_type": "execute_result"
    }
   ],
   "source": [
    "bias"
   ]
  },
  {
   "cell_type": "markdown",
   "metadata": {
    "papermill": {
     "duration": 0.136809,
     "end_time": "2020-09-17T06:51:02.231609",
     "exception": false,
     "start_time": "2020-09-17T06:51:02.094800",
     "status": "completed"
    },
    "tags": []
   },
   "source": [
    "So, my weights and bias got updated. But this is done for only epoch."
   ]
  },
  {
   "cell_type": "code",
   "execution_count": 42,
   "metadata": {
    "execution": {
     "iopub.execute_input": "2020-09-17T06:51:02.521083Z",
     "iopub.status.busy": "2020-09-17T06:51:02.519968Z",
     "iopub.status.idle": "2020-09-17T06:51:02.599497Z",
     "shell.execute_reply": "2020-09-17T06:51:02.598762Z"
    },
    "papermill": {
     "duration": 0.228735,
     "end_time": "2020-09-17T06:51:02.599652",
     "exception": false,
     "start_time": "2020-09-17T06:51:02.370917",
     "status": "completed"
    },
    "tags": []
   },
   "outputs": [
    {
     "name": "stdout",
     "output_type": "stream",
     "text": [
      "After 1 epoch the loss is 0.5561736538245508\n",
      "After 2 epoch the loss is 0.5505685226759944\n",
      "After 3 epoch the loss is 0.5451658618088531\n",
      "After 4 epoch the loss is 0.539958337777094\n",
      "After 5 epoch the loss is 0.534938844423847\n",
      "After 6 epoch the loss is 0.5301005005742361\n",
      "After 7 epoch the loss is 0.5254366472029895\n",
      "After 8 epoch the loss is 0.520940844142797\n",
      "After 9 epoch the loss is 0.5166068663947506\n",
      "After 10 epoch the loss is 0.5124287000977106\n",
      "After 11 epoch the loss is 0.5084005382090696\n",
      "After 12 epoch the loss is 0.5045167759451845\n",
      "After 13 epoch the loss is 0.5007720060256949\n",
      "After 14 epoch the loss is 0.497161013762077\n",
      "After 15 epoch the loss is 0.4936787720270882\n",
      "After 16 epoch the loss is 0.49032043613825776\n",
      "After 17 epoch the loss is 0.4870813386852726\n",
      "After 18 epoch the loss is 0.4839569843279941\n",
      "After 19 epoch the loss is 0.4809430445889329\n",
      "After 20 epoch the loss is 0.478035352661289\n",
      "After 21 epoch the loss is 0.47522989825114587\n",
      "After 22 epoch the loss is 0.4725228224700732\n",
      "After 23 epoch the loss is 0.4699104127922453\n",
      "After 24 epoch the loss is 0.4673890980882116\n",
      "After 25 epoch the loss is 0.46495544374565617\n",
      "After 26 epoch the loss is 0.46260614688584145\n",
      "After 27 epoch the loss is 0.4603380316829508\n",
      "After 28 epoch the loss is 0.4581480447921983\n",
      "After 29 epoch the loss is 0.45603325089137103\n",
      "After 30 epoch the loss is 0.45399082833938903\n",
      "After 31 epoch the loss is 0.45201806495450503\n",
      "After 32 epoch the loss is 0.45011235391390975\n",
      "After 33 epoch the loss is 0.448271189775757\n",
      "After 34 epoch the loss is 0.4464921646239559\n",
      "After 35 epoch the loss is 0.4447729643355016\n",
      "After 36 epoch the loss is 0.44311136496960746\n",
      "After 37 epoch the loss is 0.4415052292774714\n",
      "After 38 epoch the loss is 0.4399525033311348\n",
      "After 39 epoch the loss is 0.43845121326957565\n",
      "After 40 epoch the loss is 0.4369994621599159\n",
      "After 41 epoch the loss is 0.4355954269713996\n",
      "After 42 epoch the loss is 0.4342373556596201\n",
      "After 43 epoch the loss is 0.43292356435833196\n",
      "After 44 epoch the loss is 0.4316524346760719\n",
      "After 45 epoch the loss is 0.43042241109472557\n",
      "After 46 epoch the loss is 0.4292319984671244\n",
      "After 47 epoch the loss is 0.42807975961071526\n",
      "After 48 epoch the loss is 0.42696431299432813\n",
      "After 49 epoch the loss is 0.4258843305150653\n",
      "After 50 epoch the loss is 0.42483853536234867\n",
      "After 51 epoch the loss is 0.4238256999661857\n",
      "After 52 epoch the loss is 0.4228446440267456\n",
      "After 53 epoch the loss is 0.42189423262238773\n",
      "After 54 epoch the loss is 0.4209733743933265\n",
      "After 55 epoch the loss is 0.4200810197981809\n",
      "After 56 epoch the loss is 0.4192161594407112\n",
      "After 57 epoch the loss is 0.41837782246411576\n",
      "After 58 epoch the loss is 0.417565075010328\n",
      "After 59 epoch the loss is 0.416777018741821\n",
      "After 60 epoch the loss is 0.4160127894235018\n",
      "After 61 epoch the loss is 0.41527155556235257\n",
      "After 62 epoch the loss is 0.4145525171025426\n",
      "After 63 epoch the loss is 0.41385490417381704\n",
      "After 64 epoch the loss is 0.4131779758910336\n",
      "After 65 epoch the loss is 0.41252101920279893\n",
      "After 66 epoch the loss is 0.4118833477872207\n",
      "After 67 epoch the loss is 0.41126430099286776\n",
      "After 68 epoch the loss is 0.41066324282309885\n",
      "After 69 epoch the loss is 0.4100795609619851\n",
      "After 70 epoch the loss is 0.4095126658401244\n",
      "After 71 epoch the loss is 0.40896198973870357\n",
      "After 72 epoch the loss is 0.4084269859302337\n",
      "After 73 epoch the loss is 0.40790712785444105\n",
      "After 74 epoch the loss is 0.40740190832785694\n",
      "After 75 epoch the loss is 0.4069108387857092\n",
      "After 76 epoch the loss is 0.4064334485547709\n",
      "After 77 epoch the loss is 0.40596928415587874\n",
      "After 78 epoch the loss is 0.4055179086348842\n",
      "After 79 epoch the loss is 0.40507890092085114\n",
      "After 80 epoch the loss is 0.40465185521036345\n",
      "After 81 epoch the loss is 0.4042363803768502\n",
      "After 82 epoch the loss is 0.4038320994038852\n",
      "After 83 epoch the loss is 0.40343864884145775\n",
      "After 84 epoch the loss is 0.4030556782842535\n",
      "After 85 epoch the loss is 0.4026828498710272\n",
      "After 86 epoch the loss is 0.4023198378041851\n",
      "After 87 epoch the loss is 0.4019663278887312\n",
      "After 88 epoch the loss is 0.40162201708977097\n",
      "After 89 epoch the loss is 0.4012866131077962\n",
      "After 90 epoch the loss is 0.4009598339710091\n",
      "After 91 epoch the loss is 0.40064140764397627\n",
      "After 92 epoch the loss is 0.40033107165193116\n",
      "After 93 epoch the loss is 0.4000285727200735\n",
      "After 94 epoch the loss is 0.399733666427243\n",
      "After 95 epoch the loss is 0.39944611687336906\n",
      "After 96 epoch the loss is 0.399165696360125\n",
      "After 97 epoch the loss is 0.3988921850842394\n",
      "After 98 epoch the loss is 0.3986253708429405\n",
      "After 99 epoch the loss is 0.39836504875103074\n",
      "After 100 epoch the loss is 0.39811102096911377\n"
     ]
    }
   ],
   "source": [
    "for i in range(100):\n",
    "    y_hat = sigmoid(np.dot(X_train,weights)+bias)\n",
    "    w_derivative = -(np.dot((y_train - y_hat),X_train))/X_train.shape[0] \n",
    "    b_derivative = -np.mean(y_train - y_hat)\n",
    "    weights = weights-(lr*w_derivative)\n",
    "    bias = bias - (lr*b_derivative)\n",
    "    y_hat = sigmoid(np.dot(X_train,weights)+bias)\n",
    "    loss = np.mean(-y_train*np.log(y_hat)- (1-y_train)*np.log(1-y_hat))\n",
    "    print(\"After {} epoch the loss is\".format(i+1),loss)"
   ]
  },
  {
   "cell_type": "code",
   "execution_count": 43,
   "metadata": {
    "execution": {
     "iopub.execute_input": "2020-09-17T06:51:02.892952Z",
     "iopub.status.busy": "2020-09-17T06:51:02.891670Z",
     "iopub.status.idle": "2020-09-17T06:51:02.907027Z",
     "shell.execute_reply": "2020-09-17T06:51:02.908098Z"
    },
    "papermill": {
     "duration": 0.161824,
     "end_time": "2020-09-17T06:51:02.908428",
     "exception": false,
     "start_time": "2020-09-17T06:51:02.746604",
     "status": "completed"
    },
    "tags": []
   },
   "outputs": [
    {
     "name": "stdout",
     "output_type": "stream",
     "text": [
      "-0.667818517997356\n",
      "[0.20514493 1.57196555 0.93943331]\n"
     ]
    }
   ],
   "source": [
    "#finding the final weights and bias of ours\n",
    "\n",
    "print(bias)\n",
    "print(weights)"
   ]
  },
  {
   "cell_type": "markdown",
   "metadata": {
    "papermill": {
     "duration": 0.139573,
     "end_time": "2020-09-17T06:51:03.227686",
     "exception": false,
     "start_time": "2020-09-17T06:51:03.088113",
     "status": "completed"
    },
    "tags": []
   },
   "source": [
    "**Our loss value is very close or almost equal to the the loss value in Keras. Thus our model is working fine.**"
   ]
  },
  {
   "cell_type": "code",
   "execution_count": null,
   "metadata": {
    "papermill": {
     "duration": 0.136946,
     "end_time": "2020-09-17T06:51:03.503129",
     "exception": false,
     "start_time": "2020-09-17T06:51:03.366183",
     "status": "completed"
    },
    "tags": []
   },
   "outputs": [],
   "source": []
  }
 ],
 "metadata": {
  "kernelspec": {
   "display_name": "Python 3",
   "language": "python",
   "name": "python3"
  },
  "language_info": {
   "codemirror_mode": {
    "name": "ipython",
    "version": 3
   },
   "file_extension": ".py",
   "mimetype": "text/x-python",
   "name": "python",
   "nbconvert_exporter": "python",
   "pygments_lexer": "ipython3",
   "version": "3.7.6"
  },
  "papermill": {
   "duration": 27.171645,
   "end_time": "2020-09-17T06:51:04.741981",
   "environment_variables": {},
   "exception": null,
   "input_path": "__notebook__.ipynb",
   "output_path": "__notebook__.ipynb",
   "parameters": {},
   "start_time": "2020-09-17T06:50:37.570336",
   "version": "2.1.0"
  }
 },
 "nbformat": 4,
 "nbformat_minor": 4
}
